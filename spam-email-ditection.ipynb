{
 "cells": [
  {
   "cell_type": "code",
   "execution_count": 1,
   "id": "05ec0e59",
   "metadata": {},
   "outputs": [],
   "source": [
    "#Importing all the neccesary tools\n",
    "import pandas as pd\n",
    "import numpy as np\n",
    "import matplotlib.pyplot as plt\n",
    "import seaborn as sns \n",
    "\n",
    "#Import Models and testing tools from Scikit-learn\n",
    "from sklearn.model_selection import train_test_split,GridSearchCV,RandomizedSearchCV\n",
    "from sklearn.feature_extraction.text import TfidfVectorizer\n",
    "from sklearn.feature_selection import SelectKBest,chi2,f_classif\n",
    "from sklearn.ensemble import RandomForestClassifier,VotingClassifier\n",
    "from sklearn.metrics import classification_report , confusion_matrix\n",
    "from sklearn.tree import DecisionTreeClassifier\n",
    "from sklearn.neighbors import KNeighborsClassifier\n",
    "from sklearn.naive_bayes import GaussianNB, MultinomialNB, BernoulliNB\n",
    "\n",
    "\n",
    "# Text Processing libraries\n",
    "import nltk\n",
    "from nltk.stem import PorterStemmer"
   ]
  },
  {
   "cell_type": "code",
   "execution_count": 33,
   "id": "3f31e1c1",
   "metadata": {},
   "outputs": [
    {
     "data": {
      "text/html": [
       "<div>\n",
       "<style scoped>\n",
       "    .dataframe tbody tr th:only-of-type {\n",
       "        vertical-align: middle;\n",
       "    }\n",
       "\n",
       "    .dataframe tbody tr th {\n",
       "        vertical-align: top;\n",
       "    }\n",
       "\n",
       "    .dataframe thead th {\n",
       "        text-align: right;\n",
       "    }\n",
       "</style>\n",
       "<table border=\"1\" class=\"dataframe\">\n",
       "  <thead>\n",
       "    <tr style=\"text-align: right;\">\n",
       "      <th></th>\n",
       "      <th>label</th>\n",
       "      <th>text</th>\n",
       "    </tr>\n",
       "  </thead>\n",
       "  <tbody>\n",
       "    <tr>\n",
       "      <th>0</th>\n",
       "      <td>1</td>\n",
       "      <td>ounce feather bowl hummingbird opec moment ala...</td>\n",
       "    </tr>\n",
       "    <tr>\n",
       "      <th>1</th>\n",
       "      <td>1</td>\n",
       "      <td>wulvob get your medircations online qnb ikud v...</td>\n",
       "    </tr>\n",
       "    <tr>\n",
       "      <th>2</th>\n",
       "      <td>0</td>\n",
       "      <td>computer connection from cnn com wednesday es...</td>\n",
       "    </tr>\n",
       "    <tr>\n",
       "      <th>3</th>\n",
       "      <td>1</td>\n",
       "      <td>university degree obtain a prosperous future m...</td>\n",
       "    </tr>\n",
       "    <tr>\n",
       "      <th>4</th>\n",
       "      <td>0</td>\n",
       "      <td>thanks for all your answers guys i know i shou...</td>\n",
       "    </tr>\n",
       "  </tbody>\n",
       "</table>\n",
       "</div>"
      ],
      "text/plain": [
       "   label                                               text\n",
       "0      1  ounce feather bowl hummingbird opec moment ala...\n",
       "1      1  wulvob get your medircations online qnb ikud v...\n",
       "2      0   computer connection from cnn com wednesday es...\n",
       "3      1  university degree obtain a prosperous future m...\n",
       "4      0  thanks for all your answers guys i know i shou..."
      ]
     },
     "execution_count": 33,
     "metadata": {},
     "output_type": "execute_result"
    }
   ],
   "source": [
    "#Reading the data from csv\n",
    "# data set from kaggel : https://www.kaggle.com/datasets/purusinghvi/email-spam-classification-dataset\n",
    "data = pd.read_csv(\"data/combined_data.csv\")\n",
    "data.head()"
   ]
  },
  {
   "cell_type": "markdown",
   "id": "bb2e0f57",
   "metadata": {},
   "source": [
    "# Proccessing Data"
   ]
  },
  {
   "cell_type": "code",
   "execution_count": 3,
   "id": "a9b8ce27",
   "metadata": {},
   "outputs": [
    {
     "data": {
      "text/plain": [
       "(83448, 2)"
      ]
     },
     "execution_count": 3,
     "metadata": {},
     "output_type": "execute_result"
    }
   ],
   "source": [
    "data.shape"
   ]
  },
  {
   "cell_type": "code",
   "execution_count": 4,
   "id": "851cad5a",
   "metadata": {},
   "outputs": [
    {
     "data": {
      "text/plain": [
       "label    0\n",
       "text     0\n",
       "dtype: int64"
      ]
     },
     "execution_count": 4,
     "metadata": {},
     "output_type": "execute_result"
    }
   ],
   "source": [
    "data.isna().sum()"
   ]
  },
  {
   "cell_type": "code",
   "execution_count": 5,
   "id": "3d30cc98",
   "metadata": {},
   "outputs": [
    {
     "data": {
      "text/plain": [
       "0"
      ]
     },
     "execution_count": 5,
     "metadata": {},
     "output_type": "execute_result"
    }
   ],
   "source": [
    "data.duplicated().sum()"
   ]
  },
  {
   "cell_type": "code",
   "execution_count": 6,
   "id": "78f41dcf",
   "metadata": {},
   "outputs": [
    {
     "data": {
      "image/png": "[encoded data removed]",
      "text/plain": [
       "<Figure size 1000x500 with 1 Axes>"
      ]
     },
     "metadata": {},
     "output_type": "display_data"
    }
   ],
   "source": [
    "plt.figure(figsize=(10,5))\n",
    "plt.subplot(1,2,1)\n",
    "sns.countplot(data,x='label')\n",
    "\n",
    "plt.show();"
   ]
  },
  {
   "cell_type": "code",
   "execution_count": 7,
   "id": "7c659094",
   "metadata": {},
   "outputs": [
    {
     "data": {
      "text/plain": [
       "label     int64\n",
       "text     object\n",
       "dtype: object"
      ]
     },
     "execution_count": 7,
     "metadata": {},
     "output_type": "execute_result"
    }
   ],
   "source": [
    "data.dtypes"
   ]
  },
  {
   "cell_type": "markdown",
   "id": "b720ef03",
   "metadata": {},
   "source": [
    "## Text Preproccessing\n",
    "> Lowering the text\n",
    "\n",
    "> Remove punctutations"
   ]
  },
  {
   "cell_type": "code",
   "execution_count": 8,
   "id": "89b24b18",
   "metadata": {},
   "outputs": [
    {
     "data": {
      "text/html": [
       "<div>\n",
       "<style scoped>\n",
       "    .dataframe tbody tr th:only-of-type {\n",
       "        vertical-align: middle;\n",
       "    }\n",
       "\n",
       "    .dataframe tbody tr th {\n",
       "        vertical-align: top;\n",
       "    }\n",
       "\n",
       "    .dataframe thead th {\n",
       "        text-align: right;\n",
       "    }\n",
       "</style>\n",
       "<table border=\"1\" class=\"dataframe\">\n",
       "  <thead>\n",
       "    <tr style=\"text-align: right;\">\n",
       "      <th></th>\n",
       "      <th>label</th>\n",
       "      <th>text</th>\n",
       "    </tr>\n",
       "  </thead>\n",
       "  <tbody>\n",
       "    <tr>\n",
       "      <th>0</th>\n",
       "      <td>1</td>\n",
       "      <td>ounce feather bowl hummingbird opec moment ala...</td>\n",
       "    </tr>\n",
       "    <tr>\n",
       "      <th>1</th>\n",
       "      <td>1</td>\n",
       "      <td>wulvob get your medircations online qnb ikud v...</td>\n",
       "    </tr>\n",
       "    <tr>\n",
       "      <th>2</th>\n",
       "      <td>0</td>\n",
       "      <td>computer connection from cnn com wednesday es...</td>\n",
       "    </tr>\n",
       "    <tr>\n",
       "      <th>3</th>\n",
       "      <td>1</td>\n",
       "      <td>university degree obtain a prosperous future m...</td>\n",
       "    </tr>\n",
       "    <tr>\n",
       "      <th>4</th>\n",
       "      <td>0</td>\n",
       "      <td>thanks for all your answers guys i know i shou...</td>\n",
       "    </tr>\n",
       "  </tbody>\n",
       "</table>\n",
       "</div>"
      ],
      "text/plain": [
       "   label                                               text\n",
       "0      1  ounce feather bowl hummingbird opec moment ala...\n",
       "1      1  wulvob get your medircations online qnb ikud v...\n",
       "2      0   computer connection from cnn com wednesday es...\n",
       "3      1  university degree obtain a prosperous future m...\n",
       "4      0  thanks for all your answers guys i know i shou..."
      ]
     },
     "execution_count": 8,
     "metadata": {},
     "output_type": "execute_result"
    }
   ],
   "source": [
    "data['text'] = data['text'].str.lower()\n",
    "data['text'] = data['text'].str.replace(r'[^\\w\\s]+', '',regex = True)\n",
    "data.head()"
   ]
  },
  {
   "cell_type": "markdown",
   "id": "24dcedf4",
   "metadata": {},
   "source": [
    "# Removing \"and\", \"the\", \"an\",\"to\" & more"
   ]
  },
  {
   "cell_type": "code",
   "execution_count": 9,
   "id": "0d5e05f4",
   "metadata": {},
   "outputs": [
    {
     "name": "stderr",
     "output_type": "stream",
     "text": [
      "[nltk_data] Downloading package stopwords to\n",
      "[nltk_data]     /Users/arbaazmir/nltk_data...\n",
      "[nltk_data]   Package stopwords is already up-to-date!\n"
     ]
    }
   ],
   "source": [
    "from nltk.corpus import stopwords\n",
    " \n",
    "nltk.download('stopwords')\n",
    "stop_words_list= stopwords.words('english')\n",
    "data['text'] = data['text'].apply(lambda x: ' '.join([word for word in x.split() if word not in (stop_words_list)]))"
   ]
  },
  {
   "cell_type": "markdown",
   "id": "3bd72885",
   "metadata": {},
   "source": [
    "## Tokenization\n",
    "1. Tokenization is the process of breaking down a sentence into a sequence of words, commonly referred to as \"tokens.\"\n",
    "2. Tokens encompass not only individual words but can also include phrases, symbols, or other meaningful units within the text."
   ]
  },
  {
   "cell_type": "code",
   "execution_count": 10,
   "id": "b3d433ab",
   "metadata": {},
   "outputs": [
    {
     "name": "stderr",
     "output_type": "stream",
     "text": [
      "[nltk_data] Downloading package punkt to /Users/arbaazmir/nltk_data...\n",
      "[nltk_data]   Package punkt is already up-to-date!\n"
     ]
    }
   ],
   "source": [
    "nltk.download('punkt')\n",
    "\n",
    "\n",
    "data['text'] = data['text'].apply(lambda x:nltk.word_tokenize(x))"
   ]
  },
  {
   "cell_type": "code",
   "execution_count": 11,
   "id": "d16c555e",
   "metadata": {},
   "outputs": [
    {
     "data": {
      "text/html": [
       "<div>\n",
       "<style scoped>\n",
       "    .dataframe tbody tr th:only-of-type {\n",
       "        vertical-align: middle;\n",
       "    }\n",
       "\n",
       "    .dataframe tbody tr th {\n",
       "        vertical-align: top;\n",
       "    }\n",
       "\n",
       "    .dataframe thead th {\n",
       "        text-align: right;\n",
       "    }\n",
       "</style>\n",
       "<table border=\"1\" class=\"dataframe\">\n",
       "  <thead>\n",
       "    <tr style=\"text-align: right;\">\n",
       "      <th></th>\n",
       "      <th>label</th>\n",
       "      <th>text</th>\n",
       "    </tr>\n",
       "  </thead>\n",
       "  <tbody>\n",
       "    <tr>\n",
       "      <th>0</th>\n",
       "      <td>1</td>\n",
       "      <td>[ounce, feather, bowl, hummingbird, opec, mome...</td>\n",
       "    </tr>\n",
       "    <tr>\n",
       "      <th>1</th>\n",
       "      <td>1</td>\n",
       "      <td>[wulvob, get, medircations, online, qnb, ikud,...</td>\n",
       "    </tr>\n",
       "    <tr>\n",
       "      <th>2</th>\n",
       "      <td>0</td>\n",
       "      <td>[computer, connection, cnn, com, wednesday, es...</td>\n",
       "    </tr>\n",
       "    <tr>\n",
       "      <th>3</th>\n",
       "      <td>1</td>\n",
       "      <td>[university, degree, obtain, prosperous, futur...</td>\n",
       "    </tr>\n",
       "    <tr>\n",
       "      <th>4</th>\n",
       "      <td>0</td>\n",
       "      <td>[thanks, answers, guys, know, checked, rsync, ...</td>\n",
       "    </tr>\n",
       "  </tbody>\n",
       "</table>\n",
       "</div>"
      ],
      "text/plain": [
       "   label                                               text\n",
       "0      1  [ounce, feather, bowl, hummingbird, opec, mome...\n",
       "1      1  [wulvob, get, medircations, online, qnb, ikud,...\n",
       "2      0  [computer, connection, cnn, com, wednesday, es...\n",
       "3      1  [university, degree, obtain, prosperous, futur...\n",
       "4      0  [thanks, answers, guys, know, checked, rsync, ..."
      ]
     },
     "execution_count": 11,
     "metadata": {},
     "output_type": "execute_result"
    }
   ],
   "source": [
    "data.head()"
   ]
  },
  {
   "cell_type": "markdown",
   "id": "4d0f8563",
   "metadata": {},
   "source": [
    "# Stemming\n",
    "1. In linguistics, the term \"word stem\" denotes the fundamental or root form of a word.\n",
    "2. Stemming is the linguistic process of transforming words into their base forms or stems."
   ]
  },
  {
   "cell_type": "code",
   "execution_count": 12,
   "id": "716b0863",
   "metadata": {},
   "outputs": [],
   "source": [
    "ps = PorterStemmer()\n",
    "data['text'] = data['text'].apply(lambda x : [ps.stem(i) for i in x])"
   ]
  },
  {
   "cell_type": "code",
   "execution_count": 13,
   "id": "15ef27b6",
   "metadata": {},
   "outputs": [],
   "source": [
    "# setting x and y \n",
    "y = data['label']\n",
    "x = data['text'].apply(lambda x: ' '.join(x))\n",
    "\n",
    "vectorizer = TfidfVectorizer(min_df=50,max_features=5000)\n",
    "x =  vectorizer.fit_transform(x).toarray()\n"
   ]
  },
  {
   "cell_type": "code",
   "execution_count": 14,
   "id": "b0b71f81",
   "metadata": {},
   "outputs": [],
   "source": [
    "# spliting train , test \n",
    "x_train , x_test , y_train,y_test = train_test_split(x,y,test_size=0.3, random_state=5)"
   ]
  },
  {
   "cell_type": "code",
   "execution_count": 15,
   "id": "306c803d",
   "metadata": {},
   "outputs": [
    {
     "data": {
      "text/plain": [
       "((58413, 5000), (25035, 5000))"
      ]
     },
     "execution_count": 15,
     "metadata": {},
     "output_type": "execute_result"
    }
   ],
   "source": [
    "x_train.shape,x_test.shape"
   ]
  },
  {
   "cell_type": "markdown",
   "id": "f4f5f1a6",
   "metadata": {},
   "source": [
    "# Fitting Different Models and Evalution "
   ]
  },
  {
   "cell_type": "code",
   "execution_count": 16,
   "id": "ae0a1dfd",
   "metadata": {},
   "outputs": [],
   "source": [
    "nb = GaussianNB()\n",
    "nb2 = BernoulliNB()\n",
    "nb3 = MultinomialNB()\n",
    "VotingClassifiers = VotingClassifier(estimators=[('GaussianNB', nb),('BernoulliNB',nb2), ('MultinomialNB', nb3)], voting = 'soft')\n",
    "decision_clf = DecisionTreeClassifier()\n",
    "rf_clf = RandomForestClassifier()\n",
    "knn = KNeighborsClassifier()\n",
    "models_list = {\"VotingClassifiers\": VotingClassifiers,\n",
    "          \"DecisionTreeClassifier\":decision_clf,\n",
    "          \"RandomForestClassifier\":rf_clf,\n",
    "          \"KNeighborsClassifier\": knn \n",
    "         }"
   ]
  },
  {
   "cell_type": "code",
   "execution_count": 17,
   "id": "adbf1522",
   "metadata": {},
   "outputs": [],
   "source": [
    "def fit_and_eval(models,x_train,y_train,x_test,y_test):\n",
    "    '''\n",
    "    This function is use to fit and evaluate models.\n",
    "    Results are saved in a data dictonary\n",
    "    '''\n",
    "    np.random.seed(42)\n",
    "    results_score={}\n",
    "    for name,model in models.items():\n",
    "        #fitting the model\n",
    "        model.fit(x_train,y_train)\n",
    "        #evaluate the model\n",
    "        results_score[name]=model.score(x_test,y_test)\n",
    "        \n",
    "    return results_score\n",
    "    "
   ]
  },
  {
   "cell_type": "code",
   "execution_count": 18,
   "id": "2485db7a",
   "metadata": {},
   "outputs": [],
   "source": [
    "model_scores_eval = fit_and_eval(models=models_list,x_train=x_train,y_train=y_train,x_test=x_test,y_test=y_test)\n"
   ]
  },
  {
   "cell_type": "code",
   "execution_count": 19,
   "id": "2101e55f",
   "metadata": {},
   "outputs": [
    {
     "data": {
      "text/plain": [
       "{'VotingClassifiers': 0.969243059716397,\n",
       " 'DecisionTreeClassifier': 0.9598162572398642,\n",
       " 'RandomForestClassifier': 0.9851408028759736,\n",
       " 'KNeighborsClassifier': 0.8392250848811663}"
      ]
     },
     "execution_count": 19,
     "metadata": {},
     "output_type": "execute_result"
    }
   ],
   "source": [
    "model_scores_eval"
   ]
  },
  {
   "cell_type": "code",
   "execution_count": 20,
   "id": "4603ed61",
   "metadata": {},
   "outputs": [
    {
     "data": {
      "image/png": "[encoded data removed]",
      "text/plain": [
       "<Figure size 640x480 with 1 Axes>"
      ]
     },
     "metadata": {},
     "output_type": "display_data"
    }
   ],
   "source": [
    "models_compare = pd.DataFrame(model_scores_eval, index=[\"accuracy\"])\n",
    "\n",
    "# Display the DataFrame\n",
    "models_compare.T.plot.bar(ylabel= \"Accuracy\", title= \"First Models\");"
   ]
  },
  {
   "cell_type": "code",
   "execution_count": 21,
   "id": "29d678b5",
   "metadata": {},
   "outputs": [],
   "source": [
    "def evaluate_classifier(classifier, x_train, y_train, x_test, y_test, title):\n",
    "    # Making predictions\n",
    "    y_pred = classifier.predict(x_test)\n",
    "\n",
    "    # Confusion matrix heatmap\n",
    "    plt.figure(figsize=(8, 6))\n",
    "    sns.heatmap(confusion_matrix(y_test, y_pred), annot=True, fmt='d', cmap='mako', square=True,\n",
    "                xticklabels=np.unique(y_test), yticklabels=np.unique(y_test))\n",
    "    plt.title(title)\n",
    "    plt.xlabel('Predicted')\n",
    "    plt.ylabel('Actual')\n",
    "\n",
    "    # Classification report\n",
    "    print(classification_report(y_test, y_pred))\n"
   ]
  },
  {
   "cell_type": "code",
   "execution_count": 22,
   "id": "9a933787",
   "metadata": {},
   "outputs": [
    {
     "name": "stdout",
     "output_type": "stream",
     "text": [
      "              precision    recall  f1-score   support\n",
      "\n",
      "           0       0.97      0.96      0.97     11838\n",
      "           1       0.97      0.97      0.97     13197\n",
      "\n",
      "    accuracy                           0.97     25035\n",
      "   macro avg       0.97      0.97      0.97     25035\n",
      "weighted avg       0.97      0.97      0.97     25035\n",
      "\n"
     ]
    },
    {
     "data": {
      "image/png": "[encoded data removed]",
      "text/plain": [
       "<Figure size 800x600 with 2 Axes>"
      ]
     },
     "metadata": {},
     "output_type": "display_data"
    }
   ],
   "source": [
    "evaluate_classifier(VotingClassifiers,x_train,y_train,x_test,y_test,\"VotingClassifiers\")"
   ]
  },
  {
   "cell_type": "code",
   "execution_count": 23,
   "id": "cd55dfbb",
   "metadata": {},
   "outputs": [
    {
     "name": "stdout",
     "output_type": "stream",
     "text": [
      "              precision    recall  f1-score   support\n",
      "\n",
      "           0       0.96      0.96      0.96     11838\n",
      "           1       0.96      0.96      0.96     13197\n",
      "\n",
      "    accuracy                           0.96     25035\n",
      "   macro avg       0.96      0.96      0.96     25035\n",
      "weighted avg       0.96      0.96      0.96     25035\n",
      "\n"
     ]
    },
    {
     "data": {
      "image/png": "[encoded data removed]",
      "text/plain": [
       "<Figure size 800x600 with 2 Axes>"
      ]
     },
     "metadata": {},
     "output_type": "display_data"
    }
   ],
   "source": [
    "evaluate_classifier(decision_clf,x_train,y_train,x_test,y_test,\"Decision Tree\")"
   ]
  },
  {
   "cell_type": "code",
   "execution_count": 24,
   "id": "0e9773e7",
   "metadata": {},
   "outputs": [
    {
     "name": "stdout",
     "output_type": "stream",
     "text": [
      "              precision    recall  f1-score   support\n",
      "\n",
      "           0       0.99      0.98      0.98     11838\n",
      "           1       0.98      0.99      0.99     13197\n",
      "\n",
      "    accuracy                           0.99     25035\n",
      "   macro avg       0.99      0.98      0.99     25035\n",
      "weighted avg       0.99      0.99      0.99     25035\n",
      "\n"
     ]
    },
    {
     "data": {
      "image/png": "[encoded data removed]",
      "text/plain": [
       "<Figure size 800x600 with 2 Axes>"
      ]
     },
     "metadata": {},
     "output_type": "display_data"
    }
   ],
   "source": [
    "evaluate_classifier(rf_clf,x_train,y_train,x_test,y_test,\"RandomForestClassifier\")"
   ]
  },
  {
   "cell_type": "code",
   "execution_count": 25,
   "id": "84c049e2",
   "metadata": {},
   "outputs": [
    {
     "name": "stdout",
     "output_type": "stream",
     "text": [
      "              precision    recall  f1-score   support\n",
      "\n",
      "           0       0.99      0.67      0.80     11838\n",
      "           1       0.77      0.99      0.87     13197\n",
      "\n",
      "    accuracy                           0.84     25035\n",
      "   macro avg       0.88      0.83      0.83     25035\n",
      "weighted avg       0.87      0.84      0.83     25035\n",
      "\n"
     ]
    },
    {
     "data": {
      "image/png": "[encoded data removed]",
      "text/plain": [
       "<Figure size 800x600 with 2 Axes>"
      ]
     },
     "metadata": {},
     "output_type": "display_data"
    }
   ],
   "source": [
    "evaluate_classifier(knn,x_train,y_train,x_test,y_test,\"KNN\")"
   ]
  },
  {
   "cell_type": "code",
   "execution_count": 26,
   "id": "061dcf8b",
   "metadata": {},
   "outputs": [],
   "source": [
    "def preprocess(inp):\n",
    "    inp = inp.lower()\n",
    "    inp = inp.replace(r'[^\\w\\s]+', '')\n",
    "    inp = [word for word in inp.split() if word not in (stop_words_list)]\n",
    "    inp = ' '.join([ps.stem(i) for i in inp])\n",
    "    inputToModel = vectorizer.transform([inp]).toarray()\n",
    "    return inputToModel"
   ]
  },
  {
   "cell_type": "code",
   "execution_count": 27,
   "id": "73330df7",
   "metadata": {},
   "outputs": [],
   "source": [
    "def app(input_text, model):\n",
    "    \"\"\"\n",
    "    Process the input text using a given model and print the output.\n",
    "\n",
    "    Parameters:\n",
    "    - input_text (str): The input text to be processed.\n",
    "    - model: The machine learning model used for prediction.\n",
    "\n",
    "    Returns:\n",
    "    None\n",
    "    \"\"\"\n",
    "    try:\n",
    "        print('Input:', input_text)\n",
    "        \n",
    "\n",
    "        processed_array = preprocess(input_text)\n",
    "\n",
    "        predict = model.predict(processed_array)\n",
    "\n",
    "        print('Output:', predict[0])\n",
    "\n",
    "    except Exception as e:\n",
    "        print('Error:', str(e))\n"
   ]
  },
  {
   "cell_type": "code",
   "execution_count": 28,
   "id": "def6423e",
   "metadata": {},
   "outputs": [
    {
     "name": "stdout",
     "output_type": "stream",
     "text": [
      "Input: Hey you! Look over my profile and, if you like it, match me back. I'm hoping to do something in the next few days. Simply looking to have some fun with no strings attached. I'm a really giving person in bed, and I'm looking for someone who is the same. So all you have to do is match me back and I'll know you like what you see ;) View Request\n",
      "Output: 1\n"
     ]
    }
   ],
   "source": [
    "app(\"Hey you! Look over my profile and, if you like it, match me back. I'm hoping to do something in the next few days. Simply looking to have some fun with no strings attached. I'm a really giving person in bed, and I'm looking for someone who is the same. So all you have to do is match me back and I'll know you like what you see ;) View Request\",rf_clf)"
   ]
  },
  {
   "cell_type": "code",
   "execution_count": 29,
   "id": "7e795c6c",
   "metadata": {},
   "outputs": [
    {
     "name": "stdout",
     "output_type": "stream",
     "text": [
      "Input: Hello, Thank you for your response. I have attached my Detailed CV, O-level mark sheet and the first page of my passport. For the letter of recommendation, I can get it from one of my lecturers at INTI University. Should I get it from her? Could you also provide me with your WhatsApp or Telegram number for faster communication?  Sincerely,\n",
      "Output: 0\n"
     ]
    }
   ],
   "source": [
    "app(\"Hello, Thank you for your response. I have attached my Detailed CV, O-level mark sheet and the first page of my passport. For the letter of recommendation, I can get it from one of my lecturers at INTI University. Should I get it from her? Could you also provide me with your WhatsApp or Telegram number for faster communication?  Sincerely,\",rf_clf)"
   ]
  },
  {
   "cell_type": "code",
   "execution_count": 30,
   "id": "54ddbcee",
   "metadata": {},
   "outputs": [
    {
     "name": "stdout",
     "output_type": "stream",
     "text": [
      "Input: Our records show you overpaid for (a product or service). Kindly supply your bank routing and account number to receive your refund.\n",
      "Output: 1\n"
     ]
    }
   ],
   "source": [
    "app(\"Our records show you overpaid for (a product or service). Kindly supply your bank routing and account number to receive your refund.\",rf_clf)"
   ]
  },
  {
   "cell_type": "code",
   "execution_count": 31,
   "id": "92956f40",
   "metadata": {},
   "outputs": [
    {
     "name": "stdout",
     "output_type": "stream",
     "text": [
      "Input: I'm sorry to let you know that I've been facing significant challenges that have hindered my ability to attend classes and keep up with the coursework. Unfortunately, I have missed all the classes for CGEB4112 up to this point due to two major issues I am currently dealing with. The first issue is related to my living situation. Previously, I shared an apartment with a flatmate; however, they left in April, and since then, I have been living alone in a three-bedroom apartment. This sudden change has been quite bothersome for me, leading to difficulties in sleeping at night and making it challenging to wake up early in the morning. As a result, my ability to attend early classes has been severely impacted. \n",
      "Output: 0\n"
     ]
    }
   ],
   "source": [
    "app(\"I'm sorry to let you know that I've been facing significant challenges that have hindered my ability to attend classes and keep up with the coursework. Unfortunately, I have missed all the classes for CGEB4112 up to this point due to two major issues I am currently dealing with. The first issue is related to my living situation. Previously, I shared an apartment with a flatmate; however, they left in April, and since then, I have been living alone in a three-bedroom apartment. This sudden change has been quite bothersome for me, leading to difficulties in sleeping at night and making it challenging to wake up early in the morning. As a result, my ability to attend early classes has been severely impacted. \",rf_clf)"
   ]
  },
  {
   "cell_type": "code",
   "execution_count": 32,
   "id": "3219f9ac",
   "metadata": {},
   "outputs": [
    {
     "name": "stdout",
     "output_type": "stream",
     "text": [
      "Input: The Jobs Weekly Newsletter Dear Alex Ibn, For many of us, parts of job searching might feel at times  -- or at worst, downright miserable. One of the most common complaints is the waiting game of hearing back from an employer and how frustrating that is.  Although waiting can be nerve-wracking, it's important to not to give into behaviors that create more stress (like obsessively refreshing our email inboxes, or sending too many follow up emails.) Instead, focus on more effective and productive things to do while you wait. You may want to use this time to grow your professional network or take a course to help hone your skills, but most importantly, you should continue your job search. Even if you think you've found the one,  keep looking and applying for jobs in case you find something even better!  We'd like to help you find your next great remote or hybrid job. If you're ready to find higher quality, vetted remote job listings, then joining FlexJobs will be a game changer! Take a quick tour of our premium job search service to learn more.  Wishing you a good and successful rest of the week. Many cheers, The FlexJobs Team FlexJobs Sun 10 Fun, Uplifting Remote Jobs That Are Hiring 10 Fun, Uplifting Remote Jobs That Are Hiring Prepping for an upcoming job interview can be nerve-racking, but a mock interview can be like a personal rehearsal before the real interview. Learn how to effectively set up your own mock interview. Discover these fun remote jobs hiring now > What Is the Hidden Job Market? 8 Ways to Tap In What Is the Hidden Job Market? 8 Ways to Tap In Have you ever ordered “secret menu” items at a restaurant? They might not be openly listed, but savvy customers know and love them. Similarly, an unadvertised job could be the perfect fit. Learn how to strategize your job search for the hidden job market > Top 20 Must-Have Skills to Put on Your Resume Top 20 Must-Have Skills to Put on Your Resume Writing a good resume is a difficult balancing act. When thinking about  your skills it’s very important to know what  to include that will be relevant to the job and catch the eye of the hiring manager. Here are the best skills to put on your resume > Questions to Ask to Uncover Potential Red Flags Questions to Ask to Uncover Potential Red Flags When searching for a new job, it’s essential to look for any signs as to whether or not the company or work environment will be a good fit for you. We've outlined some questions to help you.Here are the top questions to ask a hiring manager to spot red flags > FlexJobs Sun Great Remote Jobs Hiring Now! Every week we highlight interesting Work from Anywhere in the US remote jobs, as well as Work from Anywhere in the World jobs. We want to provide you with an idea of the variety, quality, and depth of the hand-screened, professional jobs currently listed on our site. As a non-member, you can subscribe to FlexJobs today for full access to these and 24,000 more hand-screened remote jobs all in one easy place! View Current Customer Service Jobs >> View Current Data Entry Jobs >> View Current Internet & Ecommerce Jobs >> View Current Fashion & Beauty Jobs >> View Current Virtual Admin Jobs >> View Current Medical & Health Jobs >> View Current Writing Jobs >> View Current HR & Recruiting Jobs >> View Current Accounting & Finance Jobs >> View Current Teaching Jobs >>\n",
      "Output: 1\n"
     ]
    }
   ],
   "source": [
    "app(\"The Jobs Weekly Newsletter Dear Alex Ibn, For many of us, parts of job searching might feel at times  -- or at worst, downright miserable. One of the most common complaints is the waiting game of hearing back from an employer and how frustrating that is.  Although waiting can be nerve-wracking, it's important to not to give into behaviors that create more stress (like obsessively refreshing our email inboxes, or sending too many follow up emails.) Instead, focus on more effective and productive things to do while you wait. You may want to use this time to grow your professional network or take a course to help hone your skills, but most importantly, you should continue your job search. Even if you think you've found the one,  keep looking and applying for jobs in case you find something even better!  We'd like to help you find your next great remote or hybrid job. If you're ready to find higher quality, vetted remote job listings, then joining FlexJobs will be a game changer! Take a quick tour of our premium job search service to learn more.  Wishing you a good and successful rest of the week. Many cheers, The FlexJobs Team FlexJobs Sun 10 Fun, Uplifting Remote Jobs That Are Hiring 10 Fun, Uplifting Remote Jobs That Are Hiring Prepping for an upcoming job interview can be nerve-racking, but a mock interview can be like a personal rehearsal before the real interview. Learn how to effectively set up your own mock interview. Discover these fun remote jobs hiring now > What Is the Hidden Job Market? 8 Ways to Tap In What Is the Hidden Job Market? 8 Ways to Tap In Have you ever ordered “secret menu” items at a restaurant? They might not be openly listed, but savvy customers know and love them. Similarly, an unadvertised job could be the perfect fit. Learn how to strategize your job search for the hidden job market > Top 20 Must-Have Skills to Put on Your Resume Top 20 Must-Have Skills to Put on Your Resume Writing a good resume is a difficult balancing act. When thinking about  your skills it’s very important to know what  to include that will be relevant to the job and catch the eye of the hiring manager. Here are the best skills to put on your resume > Questions to Ask to Uncover Potential Red Flags Questions to Ask to Uncover Potential Red Flags When searching for a new job, it’s essential to look for any signs as to whether or not the company or work environment will be a good fit for you. We've outlined some questions to help you.Here are the top questions to ask a hiring manager to spot red flags > FlexJobs Sun Great Remote Jobs Hiring Now! Every week we highlight interesting Work from Anywhere in the US remote jobs, as well as Work from Anywhere in the World jobs. We want to provide you with an idea of the variety, quality, and depth of the hand-screened, professional jobs currently listed on our site. As a non-member, you can subscribe to FlexJobs today for full access to these and 24,000 more hand-screened remote jobs all in one easy place! View Current Customer Service Jobs >> View Current Data Entry Jobs >> View Current Internet & Ecommerce Jobs >> View Current Fashion & Beauty Jobs >> View Current Virtual Admin Jobs >> View Current Medical & Health Jobs >> View Current Writing Jobs >> View Current HR & Recruiting Jobs >> View Current Accounting & Finance Jobs >> View Current Teaching Jobs >>\",rf_clf)"
   ]
  },
  {
   "cell_type": "code",
   "execution_count": null,
   "id": "46934ecc",
   "metadata": {},
   "outputs": [],
   "source": []
  }
 ],
 "metadata": {
  "kernelspec": {
   "display_name": "Python 3 (ipykernel)",
   "language": "python",
   "name": "python3"
  },
  "language_info": {
   "codemirror_mode": {
    "name": "ipython",
    "version": 3
   },
   "file_extension": ".py",
   "mimetype": "text/x-python",
   "name": "python",
   "nbconvert_exporter": "python",
   "pygments_lexer": "ipython3",
   "version": "3.10.13"
  }
 },
 "nbformat": 4,
 "nbformat_minor": 5
}
